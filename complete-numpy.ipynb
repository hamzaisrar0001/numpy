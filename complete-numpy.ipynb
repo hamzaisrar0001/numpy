{
 "cells": [
  {
   "cell_type": "markdown",
   "id": "3817d6ed-1d0b-4135-b079-508302a9d2ab",
   "metadata": {},
   "source": [
    "# numpy full course"
   ]
  },
  {
   "cell_type": "code",
   "execution_count": 3,
   "id": "aed67d94-f20d-45dc-b7a0-0e297ca2e8d9",
   "metadata": {},
   "outputs": [
    {
     "name": "stdout",
     "output_type": "stream",
     "text": [
      "45\n",
      "0\n"
     ]
    }
   ],
   "source": [
    "               # 0D array\n",
    "import numpy as np\n",
    "a=np.array(45)\n",
    "print(a)\n",
    "print(a.ndim)"
   ]
  },
  {
   "cell_type": "code",
   "execution_count": 2,
   "id": "d297a13d-0651-4949-8ecc-c76b0da2773f",
   "metadata": {},
   "outputs": [
    {
     "name": "stdout",
     "output_type": "stream",
     "text": [
      "[3 4 5 6]\n"
     ]
    }
   ],
   "source": [
    "               # 1D array\n",
    "import numpy as np\n",
    "a=np.array([3,4,5,6])\n",
    "print(a)"
   ]
  },
  {
   "cell_type": "code",
   "execution_count": 3,
   "id": "0a540729-2443-42d6-a5bb-0c99fcd09117",
   "metadata": {},
   "outputs": [
    {
     "name": "stdout",
     "output_type": "stream",
     "text": [
      "[[3 4 5 6]\n",
      " [1 2 3 4]]\n"
     ]
    }
   ],
   "source": [
    "               # 2D array\n",
    "import numpy as np\n",
    "a=np.array([[3,4,5,6],[1,2,3,4]])\n",
    "print(a)"
   ]
  },
  {
   "cell_type": "code",
   "execution_count": 4,
   "id": "3d220a5c-0d65-48f2-a335-d3c0f4308b41",
   "metadata": {},
   "outputs": [
    {
     "name": "stdout",
     "output_type": "stream",
     "text": [
      "[[[3 4 5 6]\n",
      "  [1 2 3 4]]\n",
      "\n",
      " [[3 4 5 6]\n",
      "  [1 2 3 4]]]\n",
      "3\n"
     ]
    }
   ],
   "source": [
    "               # 3D array\n",
    "import numpy as np\n",
    "a=np.array([[[3,4,5,6],[1,2,3,4]],[[3,4,5,6],[1,2,3,4]]])\n",
    "\n",
    "print(a)\n",
    "print(a.ndim)"
   ]
  },
  {
   "cell_type": "markdown",
   "id": "1f233f6f-d6cf-4a54-80a5-553d6db6c4ed",
   "metadata": {},
   "source": [
    "# dtype"
   ]
  },
  {
   "cell_type": "code",
   "execution_count": 5,
   "id": "fd30ecc0-4aa8-4198-bc62-3623aba8656f",
   "metadata": {},
   "outputs": [
    {
     "name": "stdout",
     "output_type": "stream",
     "text": [
      "[1. 2. 3.]\n"
     ]
    }
   ],
   "source": [
    "                                            # dtype\n",
    "a=np.array([1,2,3],dtype=float)\n",
    "print(a)"
   ]
  },
  {
   "cell_type": "markdown",
   "id": "91e3eb24-ec9c-43ea-aea2-cd415ddfb2b7",
   "metadata": {},
   "source": [
    "# arange-function"
   ]
  },
  {
   "cell_type": "code",
   "execution_count": 6,
   "id": "acfdf542-0c11-44f2-85d2-3455efa33ef4",
   "metadata": {},
   "outputs": [
    {
     "data": {
      "text/plain": [
       "array([ 0,  1,  2,  3,  4,  5,  6,  7,  8,  9, 10, 11, 12, 13, 14])"
      ]
     },
     "execution_count": 6,
     "metadata": {},
     "output_type": "execute_result"
    }
   ],
   "source": [
    "                                            # arange function\n",
    "a=np.arange(15)\n",
    "a"
   ]
  },
  {
   "cell_type": "code",
   "execution_count": 7,
   "id": "78fb49a0-a6b0-454c-ba63-ddc50a767c2d",
   "metadata": {},
   "outputs": [],
   "source": [
    "a=np.arange(15)"
   ]
  },
  {
   "cell_type": "code",
   "execution_count": 8,
   "id": "99a07420-c681-4129-917c-cc084c93aedf",
   "metadata": {},
   "outputs": [
    {
     "data": {
      "text/plain": [
       "array([1, 2, 3, 4])"
      ]
     },
     "execution_count": 8,
     "metadata": {},
     "output_type": "execute_result"
    }
   ],
   "source": [
    "                                            # arange function\n",
    "a=np.arange(1,5)\n",
    "a"
   ]
  },
  {
   "cell_type": "code",
   "execution_count": 9,
   "id": "d3740547-db50-40b5-a97b-42fda9b34a89",
   "metadata": {},
   "outputs": [
    {
     "name": "stdout",
     "output_type": "stream",
     "text": [
      "[ 1  4  7 10 13]\n"
     ]
    }
   ],
   "source": [
    "a=np.arange(1,15,3)\n",
    "print(a)"
   ]
  },
  {
   "cell_type": "markdown",
   "id": "052fcecf-83f5-4f32-86e2-ca9aa9221781",
   "metadata": {},
   "source": [
    "# RESHAPE-FUNCTION"
   ]
  },
  {
   "cell_type": "code",
   "execution_count": 10,
   "id": "ee1487fd-81a8-4532-83db-27dfe1486c82",
   "metadata": {},
   "outputs": [
    {
     "name": "stdout",
     "output_type": "stream",
     "text": [
      "[[ 0  1  2  3  4  5  6  7]\n",
      " [ 8  9 10 11 12 13 14 15]]\n",
      "int32\n",
      "16\n",
      "(2, 8)\n"
     ]
    }
   ],
   "source": [
    "a=np.arange(16).reshape(2,8)\n",
    "print(a)\n",
    "print(a.dtype)\n",
    "print(a.size)\n",
    "print(a.shape)\n"
   ]
  },
  {
   "cell_type": "markdown",
   "id": "42a1f31d-3ce6-4086-b095-baa3b99fbc96",
   "metadata": {},
   "source": [
    "# np.zeros"
   ]
  },
  {
   "cell_type": "code",
   "execution_count": 11,
   "id": "45e78757-364d-4729-ba3e-e1806cb29d3b",
   "metadata": {},
   "outputs": [
    {
     "name": "stdout",
     "output_type": "stream",
     "text": [
      "[[0. 0.]\n",
      " [0. 0.]]\n"
     ]
    }
   ],
   "source": [
    "                          #np.zeros\n",
    "a=np.zeros((2,2))\n",
    "print(a)\n",
    "                                "
   ]
  },
  {
   "cell_type": "code",
   "execution_count": 12,
   "id": "485afc8e-0e38-4ba2-84bc-1693815afc4b",
   "metadata": {},
   "outputs": [
    {
     "name": "stdout",
     "output_type": "stream",
     "text": [
      "[[[[1. 1.]\n",
      "   [1. 1.]]\n",
      "\n",
      "  [[1. 1.]\n",
      "   [1. 1.]]]\n",
      "\n",
      "\n",
      " [[[1. 1.]\n",
      "   [1. 1.]]\n",
      "\n",
      "  [[1. 1.]\n",
      "   [1. 1.]]]]\n"
     ]
    }
   ],
   "source": [
    "a=np.ones((2,2,2,2))\n",
    "print(a)"
   ]
  },
  {
   "cell_type": "markdown",
   "id": "a4056ddb-ad6e-4f29-b46f-79139d88ceb2",
   "metadata": {},
   "source": [
    "# np.random"
   ]
  },
  {
   "cell_type": "code",
   "execution_count": 5,
   "id": "632ddeaf-4cd3-4cfb-9b2e-f272d6ba669f",
   "metadata": {},
   "outputs": [
    {
     "data": {
      "text/plain": [
       "array([[0.96924848, 0.85158857, 0.08166487, 0.7112958 ],\n",
       "       [0.01797569, 0.72950706, 0.38813662, 0.16586197],\n",
       "       [0.64593426, 0.84862024, 0.2021027 , 0.71126557]])"
      ]
     },
     "execution_count": 5,
     "metadata": {},
     "output_type": "execute_result"
    }
   ],
   "source": [
    "                                        # np.random\n",
    "a=np.random.random((3,4))\n",
    "a"
   ]
  },
  {
   "cell_type": "markdown",
   "id": "cd42779c-3e45-4162-be5e-4dbaec708fe8",
   "metadata": {},
   "source": [
    "# np.linspace"
   ]
  },
  {
   "cell_type": "code",
   "execution_count": 14,
   "id": "3d54950e-ab85-4d7d-aa9d-e391f8f4dee8",
   "metadata": {},
   "outputs": [
    {
     "name": "stdout",
     "output_type": "stream",
     "text": [
      "[1.         1.44444444 1.88888889 2.33333333 2.77777778 3.22222222\n",
      " 3.66666667 4.11111111 4.55555556 5.        ]\n"
     ]
    }
   ],
   "source": [
    "a=np.linspace(1,5,10)        # (start,end,no of elements)\n",
    "print(a)"
   ]
  },
  {
   "cell_type": "markdown",
   "id": "5ecf94bb-6ac3-4789-84a3-fccb159716df",
   "metadata": {},
   "source": [
    "# np.identity"
   ]
  },
  {
   "cell_type": "code",
   "execution_count": 15,
   "id": "293cf6e4-a7bc-48e4-8b21-aa9ced1b3d99",
   "metadata": {},
   "outputs": [
    {
     "name": "stdout",
     "output_type": "stream",
     "text": [
      "[[1. 0. 0. 0. 0.]\n",
      " [0. 1. 0. 0. 0.]\n",
      " [0. 0. 1. 0. 0.]\n",
      " [0. 0. 0. 1. 0.]\n",
      " [0. 0. 0. 0. 1.]]\n"
     ]
    }
   ],
   "source": [
    "a=np.identity(5)\n",
    "print(a)"
   ]
  },
  {
   "cell_type": "markdown",
   "id": "f45d11a2-74cd-45da-b877-59d417a49b4a",
   "metadata": {},
   "source": [
    "# ravel"
   ]
  },
  {
   "cell_type": "code",
   "execution_count": 16,
   "id": "e96f0c12-ca6b-4d85-a28a-0e65c5ed0c41",
   "metadata": {},
   "outputs": [
    {
     "name": "stdout",
     "output_type": "stream",
     "text": [
      "[1. 0. 0. 0. 0. 0. 1. 0. 0. 0. 0. 0. 1. 0. 0. 0. 0. 0. 1. 0. 0. 0. 0. 0.\n",
      " 1.]\n"
     ]
    }
   ],
   "source": [
    "a=a.ravel()\n",
    "print(a)"
   ]
  },
  {
   "cell_type": "markdown",
   "id": "bac5e497-d09a-4ff8-9db0-b2d3ffdd90af",
   "metadata": {},
   "source": [
    "#   Axis"
   ]
  },
  {
   "cell_type": "code",
   "execution_count": 17,
   "id": "a831edce-ffdc-414f-a3be-8efe99dfaf94",
   "metadata": {},
   "outputs": [
    {
     "name": "stdout",
     "output_type": "stream",
     "text": [
      "[[ 0  1  2]\n",
      " [ 3  4  5]\n",
      " [ 6  7  8]\n",
      " [ 9 10 11]]\n"
     ]
    }
   ],
   "source": [
    "a=np.arange(12).reshape(4,3)\n",
    "print(a)"
   ]
  },
  {
   "cell_type": "code",
   "execution_count": 18,
   "id": "325518d5-650e-4fbc-b850-7dc178aa24d5",
   "metadata": {},
   "outputs": [
    {
     "name": "stdout",
     "output_type": "stream",
     "text": [
      "[[ 0  1  2]\n",
      " [ 3  4  5]\n",
      " [ 6  7  8]\n",
      " [ 9 10 11]]\n",
      "[18 22 26]\n",
      "[[ 0  1  2]\n",
      " [ 3  4  5]\n",
      " [ 6  7  8]\n",
      " [ 9 10 11]]\n",
      "[ 3 12 21 30]\n"
     ]
    }
   ],
   "source": [
    "\n",
    "                    # axis=0 means column \n",
    "a=np.arange(12).reshape(4,3)\n",
    "print(a)\n",
    "c=a.sum(axis=0)\n",
    "print(c)\n",
    "                    # axis=1 means rows \n",
    "a=np.arange(12).reshape(4,3)\n",
    "print(a)\n",
    "a=a.sum(axis=1)\n",
    "print(a)"
   ]
  },
  {
   "cell_type": "code",
   "execution_count": 19,
   "id": "26c5d4ce-4907-480a-8f81-23f1dc862851",
   "metadata": {},
   "outputs": [
    {
     "name": "stdout",
     "output_type": "stream",
     "text": [
      "[[ 0  1  2]\n",
      " [ 3  4  5]\n",
      " [ 6  7  8]\n",
      " [ 9 10 11]]\n",
      "[  0 280 880]\n",
      "[[ 0  1  2]\n",
      " [ 3  4  5]\n",
      " [ 6  7  8]\n",
      " [ 9 10 11]]\n",
      "[  0  60 336 990]\n"
     ]
    }
   ],
   "source": [
    "                    # axis=0 means column \n",
    "a=np.arange(12).reshape(4,3)\n",
    "print(a)\n",
    "c=a.prod(axis=0)\n",
    "print(c)\n",
    "\n",
    "                    # axis=1 means rows \n",
    "a=np.arange(12).reshape(4,3)\n",
    "print(a)\n",
    "a=a.prod(axis=1)\n",
    "print(a)"
   ]
  },
  {
   "cell_type": "markdown",
   "id": "e9f6f196-2aa5-4b6e-b3f0-1ca37670a3bb",
   "metadata": {},
   "source": [
    "# transpose"
   ]
  },
  {
   "cell_type": "code",
   "execution_count": 20,
   "id": "793cf468-0be3-4c2c-8a7c-91fb430ded1e",
   "metadata": {},
   "outputs": [
    {
     "name": "stdout",
     "output_type": "stream",
     "text": [
      "[[ 0  1  2]\n",
      " [ 3  4  5]\n",
      " [ 6  7  8]\n",
      " [ 9 10 11]]\n",
      "[[ 0  3  6  9]\n",
      " [ 1  4  7 10]\n",
      " [ 2  5  8 11]]\n"
     ]
    }
   ],
   "source": [
    "a=np.arange(12).reshape(4,3)\n",
    "print(a)\n",
    "t=a.T\n",
    "print(t)"
   ]
  },
  {
   "cell_type": "markdown",
   "id": "0013f66e-eefd-43a5-9c35-e4b19a5ddcba",
   "metadata": {},
   "source": [
    "#  flat-function "
   ]
  },
  {
   "cell_type": "code",
   "execution_count": 21,
   "id": "80e179ef-88dc-4290-8358-669a826b454d",
   "metadata": {},
   "outputs": [
    {
     "name": "stdout",
     "output_type": "stream",
     "text": [
      "[[ 0  1  2]\n",
      " [ 3  4  5]\n",
      " [ 6  7  8]\n",
      " [ 9 10 11]]\n",
      "0\n",
      "1\n",
      "2\n",
      "3\n",
      "4\n",
      "5\n",
      "6\n",
      "7\n",
      "8\n",
      "9\n",
      "10\n",
      "11\n"
     ]
    }
   ],
   "source": [
    "a=np.arange(12).reshape(4,3)\n",
    "print(a)\n",
    "a.flat\n",
    "for i in a.flat:\n",
    "    print(i)"
   ]
  },
  {
   "cell_type": "markdown",
   "id": "e81258d2-df31-4a41-8782-781091bc119c",
   "metadata": {},
   "source": [
    "# argsort / argmax /argmin"
   ]
  },
  {
   "cell_type": "code",
   "execution_count": 22,
   "id": "4b034982-b224-483c-9c8b-a9b46fa475d1",
   "metadata": {},
   "outputs": [
    {
     "name": "stdout",
     "output_type": "stream",
     "text": [
      "4\n"
     ]
    }
   ],
   "source": [
    "a=np.array([1,2,66,4,88,4])      #   maximum value is on index 4\n",
    "print(a.argmax())"
   ]
  },
  {
   "cell_type": "code",
   "execution_count": 23,
   "id": "10bc7f1f-d440-4763-863f-45630c6ffea3",
   "metadata": {},
   "outputs": [
    {
     "name": "stdout",
     "output_type": "stream",
     "text": [
      "0\n"
     ]
    }
   ],
   "source": [
    "a=np.array([1,2,66,4,88,4])      #   minimum value is on index 0\n",
    "print(a.argmin())"
   ]
  },
  {
   "cell_type": "code",
   "execution_count": 24,
   "id": "76fbcfbb-e925-4640-a91f-35bfaa3a843e",
   "metadata": {},
   "outputs": [
    {
     "name": "stdout",
     "output_type": "stream",
     "text": [
      "[0 1 3 5 2 4]\n"
     ]
    }
   ],
   "source": [
    "                                # sorting according to index\n",
    "a=np.array([1,2,66,4,88,4])\n",
    "print(a.argsort())"
   ]
  },
  {
   "cell_type": "code",
   "execution_count": 25,
   "id": "29283792-89c5-4f79-8b68-10cf2cda02b6",
   "metadata": {},
   "outputs": [
    {
     "name": "stdout",
     "output_type": "stream",
     "text": [
      "[[ 0  1  2]\n",
      " [ 3  4  5]\n",
      " [ 6  7  8]\n",
      " [ 9 10 11]]\n",
      "11\n"
     ]
    }
   ],
   "source": [
    "a=np.arange(12).reshape(4,3)\n",
    "print(a)\n",
    "print(a.argmax())"
   ]
  },
  {
   "cell_type": "code",
   "execution_count": 26,
   "id": "3cac68f6-7bc5-450c-8e0c-9721adea6301",
   "metadata": {},
   "outputs": [
    {
     "name": "stdout",
     "output_type": "stream",
     "text": [
      "[3 3 3]\n"
     ]
    }
   ],
   "source": [
    "print(a.argmax(axis=0))"
   ]
  },
  {
   "cell_type": "code",
   "execution_count": 27,
   "id": "1bd74133-11db-4cf5-b488-824439b51bb8",
   "metadata": {},
   "outputs": [
    {
     "name": "stdout",
     "output_type": "stream",
     "text": [
      "[2 2 2 2]\n"
     ]
    }
   ],
   "source": [
    "print(a.argmax(axis=1))"
   ]
  },
  {
   "cell_type": "code",
   "execution_count": 28,
   "id": "73fbef45-e15f-4c05-baec-2ba66bde0265",
   "metadata": {},
   "outputs": [
    {
     "name": "stdout",
     "output_type": "stream",
     "text": [
      "[[0 1 2]\n",
      " [0 1 2]\n",
      " [0 1 2]\n",
      " [0 1 2]]\n"
     ]
    }
   ],
   "source": [
    "print(a.argsort())"
   ]
  },
  {
   "cell_type": "markdown",
   "id": "a11d52e6-4e04-4741-8242-ea0ccc5424fb",
   "metadata": {},
   "source": [
    "# addition of two matrix"
   ]
  },
  {
   "cell_type": "code",
   "execution_count": 35,
   "id": "f593ce86-ad8f-4400-91c7-80d303dea35e",
   "metadata": {},
   "outputs": [
    {
     "name": "stdout",
     "output_type": "stream",
     "text": [
      "[[ 0  1  2]\n",
      " [ 3  4  5]\n",
      " [ 6  7  8]\n",
      " [ 9 10 11]]\n",
      "[[3 3 3]\n",
      " [3 3 3]\n",
      " [3 3 3]\n",
      " [3 3 3]]\n",
      "[[ 3  4  5]\n",
      " [ 6  7  8]\n",
      " [ 9 10 11]\n",
      " [12 13 14]]\n"
     ]
    }
   ],
   "source": [
    "a=np.arange(12).reshape(4,3)\n",
    "print(a)\n",
    "b=np.array([[3,3,3],[3,3,3],[3,3,3],[3,3,3]])\n",
    "print(b)\n",
    "c=a+b\n",
    "print(c)"
   ]
  },
  {
   "cell_type": "markdown",
   "id": "a42bf0c5-4c79-4805-95dd-16c0c56753c3",
   "metadata": {},
   "source": [
    "# multiplication of two matrix"
   ]
  },
  {
   "cell_type": "code",
   "execution_count": 34,
   "id": "c4828cc1-0e5d-4811-aab8-c48750a37353",
   "metadata": {},
   "outputs": [
    {
     "name": "stdout",
     "output_type": "stream",
     "text": [
      "[[ 0  1  2]\n",
      " [ 3  4  5]\n",
      " [ 6  7  8]\n",
      " [ 9 10 11]]\n",
      "[[3 3 3]\n",
      " [3 3 3]\n",
      " [3 3 3]\n",
      " [3 3 3]]\n",
      "[[ 0  3  6]\n",
      " [ 9 12 15]\n",
      " [18 21 24]\n",
      " [27 30 33]]\n"
     ]
    }
   ],
   "source": [
    "a=np.arange(12).reshape(4,3)\n",
    "print(a)\n",
    "b=np.array([[3,3,3],[3,3,3],[3,3,3],[3,3,3]])\n",
    "print(b)\n",
    "c=a*b\n",
    "print(c)"
   ]
  },
  {
   "cell_type": "markdown",
   "id": "72861f25-d008-4d26-9240-dea58a1c85d3",
   "metadata": {},
   "source": [
    "# squire root"
   ]
  },
  {
   "cell_type": "code",
   "execution_count": 38,
   "id": "8af22230-dfed-4b31-b459-d2a1abe6a90e",
   "metadata": {},
   "outputs": [
    {
     "name": "stdout",
     "output_type": "stream",
     "text": [
      "[[ 0  1  2]\n",
      " [ 3  4  5]\n",
      " [ 6  7  8]\n",
      " [ 9 10 11]]\n"
     ]
    },
    {
     "data": {
      "text/plain": [
       "array([[0.        , 1.        , 1.41421356],\n",
       "       [1.73205081, 2.        , 2.23606798],\n",
       "       [2.44948974, 2.64575131, 2.82842712],\n",
       "       [3.        , 3.16227766, 3.31662479]])"
      ]
     },
     "execution_count": 38,
     "metadata": {},
     "output_type": "execute_result"
    }
   ],
   "source": [
    "a=np.arange(12).reshape(4,3)\n",
    "print(a)\n",
    "np.sqrt(a)\n"
   ]
  },
  {
   "cell_type": "markdown",
   "id": "60b3e24a-15d0-441a-b154-75e915152c9d",
   "metadata": {},
   "source": [
    "# for search an elements"
   ]
  },
  {
   "cell_type": "code",
   "execution_count": 41,
   "id": "1a04c3f5-16bc-4efc-9cd8-8dcef9378057",
   "metadata": {},
   "outputs": [
    {
     "name": "stdout",
     "output_type": "stream",
     "text": [
      "[[ 0  1  2]\n",
      " [ 3  4  5]\n",
      " [ 6  7  8]\n",
      " [ 9 10 11]]\n",
      "(array([2, 2, 2, 3, 3, 3], dtype=int64), array([0, 1, 2, 0, 1, 2], dtype=int64))\n"
     ]
    }
   ],
   "source": [
    "a=np.arange(12).reshape(4,3)\n",
    "print(a)\n",
    "print(np.where(a>5))"
   ]
  },
  {
   "cell_type": "markdown",
   "id": "aa57b676-73af-40d7-aa85-b27eaac3855c",
   "metadata": {},
   "source": [
    "# Indexing & slicing"
   ]
  },
  {
   "cell_type": "code",
   "execution_count": 45,
   "id": "46c8c152-b6a1-47a8-bdeb-868b4e774236",
   "metadata": {},
   "outputs": [
    {
     "name": "stdout",
     "output_type": "stream",
     "text": [
      "[[[ 0  1  2]\n",
      "  [ 3  4  5]\n",
      "  [ 6  7  8]]\n",
      "\n",
      " [[ 9 10 11]\n",
      "  [12 13 14]\n",
      "  [15 16 17]]\n",
      "\n",
      " [[18 19 20]\n",
      "  [21 22 23]\n",
      "  [24 25 26]]]\n"
     ]
    }
   ],
   "source": [
    "a=np.arange(27).reshape(3,3,3)\n",
    "print(a)"
   ]
  },
  {
   "cell_type": "code",
   "execution_count": 49,
   "id": "04bc9d52-91f3-4c71-812e-288ecea33aa3",
   "metadata": {},
   "outputs": [
    {
     "data": {
      "text/plain": [
       "20"
      ]
     },
     "execution_count": 49,
     "metadata": {},
     "output_type": "execute_result"
    }
   ],
   "source": [
    "a[2,0,2]"
   ]
  },
  {
   "cell_type": "code",
   "execution_count": 50,
   "id": "75c67a47-d349-427b-ace2-e7b35ee5e5e9",
   "metadata": {},
   "outputs": [
    {
     "data": {
      "text/plain": [
       "13"
      ]
     },
     "execution_count": 50,
     "metadata": {},
     "output_type": "execute_result"
    }
   ],
   "source": [
    "a[1,1,1]"
   ]
  },
  {
   "cell_type": "code",
   "execution_count": 53,
   "id": "a5598bcd-3314-4659-a43e-91bd493cabd3",
   "metadata": {},
   "outputs": [
    {
     "data": {
      "text/plain": [
       "array([[19, 20],\n",
       "       [22, 23]])"
      ]
     },
     "execution_count": 53,
     "metadata": {},
     "output_type": "execute_result"
    }
   ],
   "source": [
    "a[2,0:2,1:3]"
   ]
  },
  {
   "cell_type": "code",
   "execution_count": 54,
   "id": "a68e1b84-5a76-41f2-b4cc-2b15853a0cb0",
   "metadata": {},
   "outputs": [
    {
     "data": {
      "text/plain": [
       "array([[18, 20],\n",
       "       [24, 26]])"
      ]
     },
     "execution_count": 54,
     "metadata": {},
     "output_type": "execute_result"
    }
   ],
   "source": [
    "a[2,0:3:2,0:3:2]"
   ]
  },
  {
   "cell_type": "code",
   "execution_count": 55,
   "id": "2308819a-af54-4769-9058-19fe1ae93d50",
   "metadata": {},
   "outputs": [
    {
     "name": "stdout",
     "output_type": "stream",
     "text": [
      "[[[ 0  1  2]\n",
      "  [ 3  4  5]\n",
      "  [ 6  7  8]]\n",
      "\n",
      " [[ 9 10 11]\n",
      "  [12 13 14]\n",
      "  [15 16 17]]\n",
      "\n",
      " [[18 19 20]\n",
      "  [21 22 23]\n",
      "  [24 25 26]]]\n"
     ]
    }
   ],
   "source": [
    "a=np.arange(27).reshape(3,3,3)\n",
    "print(a)"
   ]
  },
  {
   "cell_type": "code",
   "execution_count": 58,
   "id": "640c6381-34ae-4a69-997b-5538252d3da7",
   "metadata": {},
   "outputs": [
    {
     "data": {
      "text/plain": [
       "array([[[ 0,  2]],\n",
       "\n",
       "       [[18, 20]]])"
      ]
     },
     "execution_count": 58,
     "metadata": {},
     "output_type": "execute_result"
    }
   ],
   "source": [
    "a[0:3:2,0:3:3,0:3:2]"
   ]
  },
  {
   "cell_type": "code",
   "execution_count": null,
   "id": "9b073a8c-bed1-431f-b340-a798a25853a6",
   "metadata": {},
   "outputs": [],
   "source": []
  },
  {
   "cell_type": "code",
   "execution_count": null,
   "id": "e864b9d9-59fb-4cda-a7ec-3be8b8d89190",
   "metadata": {},
   "outputs": [],
   "source": []
  },
  {
   "cell_type": "code",
   "execution_count": null,
   "id": "5a40fa33-e73e-4c95-bc08-1eccd463a236",
   "metadata": {},
   "outputs": [],
   "source": []
  },
  {
   "cell_type": "code",
   "execution_count": null,
   "id": "b39dadb9-0a92-4f62-9deb-6310d8a774d6",
   "metadata": {},
   "outputs": [],
   "source": []
  },
  {
   "cell_type": "raw",
   "id": "22915a47-2a40-4a5e-8ad4-36e34089b07d",
   "metadata": {
    "jp-MarkdownHeadingCollapsed": true
   },
   "source": [
    "\n",
    "# Here are some of the most famous NumPy array (ndarray) methods and attributes with their one-line syntax examples:\n",
    "\n",
    "# Methods:\n",
    "\n",
    "# array.reshape(new_shape): Changes the shape of the array without changing its data.\n",
    "# array.transpose(): Permutes the dimensions of the array.\n",
    "# array.flatten(): Returns a flattened copy of the array.\n",
    "# array.sum(axis=None): Calculates the sum of array elements over a specified axis.\n",
    "# array.mean(axis=None): Calculates the mean of array elements over a specified axis.\n",
    "# array.std(axis=None): Calculates the standard deviation of array elements over a specified axis.\n",
    "# array.sort(axis=-1): Sorts the array elements in place along a specified axis.\n",
    "# array.copy(): Returns a copy of the array.\n",
    "# array.clip(min=None, max=None): Clips the values in the array to a specified range.\n",
    "# array.round(decimals=0): Rounds the array elements to a specified number of decimals.\n",
    "# array.argmax(axis=None): Returns the indices of the maximum value along a specified axis.\n",
    "# array.argmin(axis=None): Returns the indices of the minimum value along a specified axis.\n",
    "# array.amax(axis=None): Returns the maximum value of the array along a specified axis.\n",
    "# array.amin(axis=None): Returns the minimum value of the array along a specified axis.\n",
    "# array.tolist(): Converts the array to a Python list.\n",
    "\n",
    "\n",
    "# Attributes:\n",
    "\n",
    "\n",
    "# array.shape: Returns the shape (dimensions) of the array as a tuple.\n",
    "# array.dtype: Returns the data type of the array.\n",
    "# array.size: Returns the total number of elements in the array.\n",
    "# array.itemsize: Returns the size in bytes of each element in the array.\n",
    "# array.ndim: Returns the number of dimensions of the array.\n",
    "# array.nbytes: Returns the total number of bytes used by the array.\n",
    "# array.T: Returns the transpose of the array."
   ]
  },
  {
   "cell_type": "code",
   "execution_count": 4,
   "id": "f572e1b9-f118-468f-b933-9c62f73d21f6",
   "metadata": {},
   "outputs": [
    {
     "name": "stdout",
     "output_type": "stream",
     "text": [
      "[2 4 6 8]\n"
     ]
    }
   ],
   "source": [
    "import numpy  as np\n",
    "list1=np.array([1,2,3,4])\n",
    "list2=np.array([1,2,3,4])\n",
    "print(np.add(list1,list2))"
   ]
  },
  {
   "cell_type": "code",
   "execution_count": null,
   "id": "d2abfa76-5a3c-4c31-b13e-629b71d73eec",
   "metadata": {},
   "outputs": [],
   "source": []
  },
  {
   "cell_type": "code",
   "execution_count": null,
   "id": "3146db9c-c9b0-4be4-85c0-a0abb6a0b14b",
   "metadata": {},
   "outputs": [],
   "source": []
  }
 ],
 "metadata": {
  "kernelspec": {
   "display_name": "Python 3 (ipykernel)",
   "language": "python",
   "name": "python3"
  },
  "language_info": {
   "codemirror_mode": {
    "name": "ipython",
    "version": 3
   },
   "file_extension": ".py",
   "mimetype": "text/x-python",
   "name": "python",
   "nbconvert_exporter": "python",
   "pygments_lexer": "ipython3",
   "version": "3.11.7"
  }
 },
 "nbformat": 4,
 "nbformat_minor": 5
}
